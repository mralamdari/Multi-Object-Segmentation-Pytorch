{
  "nbformat": 4,
  "nbformat_minor": 0,
  "metadata": {
    "colab": {
      "name": "Multi-Object-Segmentation-Pytorch.ipynb",
      "provenance": [],
      "collapsed_sections": [],
      "authorship_tag": "ABX9TyNhtpIq8m4wtGr+YWW86Vip",
      "include_colab_link": true
    },
    "kernelspec": {
      "name": "python3",
      "display_name": "Python 3"
    },
    "language_info": {
      "name": "python"
    }
  },
  "cells": [
    {
      "cell_type": "markdown",
      "metadata": {
        "id": "view-in-github",
        "colab_type": "text"
      },
      "source": [
        "<a href=\"https://colab.research.google.com/github/mr-alamdari/Multi-Object-Segmentation-Pytorch/blob/main/Multi_Object_Segmentation_Pytorch.ipynb\" target=\"_parent\"><img src=\"https://colab.research.google.com/assets/colab-badge.svg\" alt=\"Open In Colab\"/></a>"
      ]
    },
    {
      "cell_type": "code",
      "execution_count": 7,
      "metadata": {
        "id": "YNd5MFGM6ydG"
      },
      "outputs": [],
      "source": [
        "import os\n",
        "import PIL\n",
        "import copy\n",
        "import numpy as np\n",
        "import pandas as pd\n",
        "import matplotlib.pyplot as plt\n",
        "import torch\n",
        "import torchvision\n",
        "import torchsummary\n",
        "import albumentations"
      ]
    },
    {
      "cell_type": "markdown",
      "source": [
        "#1.Data\n",
        "\n",
        "####Visual Object Classes(VOC) [Dataset](http://host.robots.ox.ac.uk/pascal/VOC/voc2012/index.html)"
      ],
      "metadata": {
        "id": "PPC3rp2n_v9p"
      }
    },
    {
      "cell_type": "code",
      "source": [
        "class VOCS(torchvision.datasets.VOCSegmentation):\n",
        "  def __getitem__(self, id):\n",
        "    img = PIL.Image.open(self.images[id]).covert('RGB')\n",
        "    target = PIL.Image.open(self.masks[id])\n",
        "\n",
        "    if self.transforms is not None:\n",
        "      augmented = self.transforms(image=np.array(img), mask=np.array(mask))\n",
        "      img = augmented['image']\n",
        "      mask = augmented['mask']\n",
        "      target[target>20] = 0\n",
        "      img = torchvision.transforms.functional.to_tensor(img)\n",
        "      target = torch.frum_numpy(target).type(torch.long)\n",
        "      return img, target"
      ],
      "metadata": {
        "id": "3CS9jB3p-Gc4"
      },
      "execution_count": 6,
      "outputs": []
    },
    {
      "cell_type": "code",
      "source": [
        "mean = [0.485, 0.456, 0.406]\n",
        "std = [0.229, 0.224, 0.225]\n",
        "h, w = 520, 520\n",
        "\n",
        "transform_train = albumentations.Compose([albumentations.Resize(h, w),\n",
        "                                          albumentations.HorizontalFlip(p=0.5),\n",
        "                                          albumentations.VerticalFlip(p=0.5),\n",
        "                                          albumentations.Normalize(mean=mean, std=std)])\n",
        "tranform_val = albumentations.Compose([albumentations.Resize(h, w),\n",
        "                                      albumentations.Normalize(mean=mean, std=std)])"
      ],
      "metadata": {
        "id": "U6CjUloPDNkf"
      },
      "execution_count": 15,
      "outputs": []
    },
    {
      "cell_type": "code",
      "source": [
        "path2data = '/content/data'\n",
        "path2models = '/content/models'\n",
        "\n",
        "if not os.path.exists(path2data):\n",
        "  os.mkdir(path2data)\n",
        "\n",
        "if not os.path.exists(path2models):\n",
        "  os.mkdir(path2models)"
      ],
      "metadata": {
        "id": "Ym3WODEFGIXQ"
      },
      "execution_count": 16,
      "outputs": []
    },
    {
      "cell_type": "code",
      "source": [
        ""
      ],
      "metadata": {
        "id": "JokgpeKIG_um"
      },
      "execution_count": null,
      "outputs": []
    }
  ]
}